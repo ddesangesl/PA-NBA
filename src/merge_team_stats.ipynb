{
 "cells": [
  {
   "cell_type": "code",
   "execution_count": 1,
   "metadata": {
    "id": "u5GsW4lPNM_M"
   },
   "outputs": [],
   "source": [
    "import pandas as pd \n"
   ]
  },
  {
   "cell_type": "code",
   "execution_count": 2,
   "metadata": {
    "id": "itpZ2YKtPH3x"
   },
   "outputs": [],
   "source": [
    "\n",
    "team_adv_stats = pd.read_csv('../dataset/team_adv_stats.csv')\n",
    "team_stat = pd.read_csv('../dataset/team_stat.csv')"
   ]
  },
  {
   "cell_type": "code",
   "execution_count": 3,
   "metadata": {
    "id": "kh3q0jL6SuC1"
   },
   "outputs": [],
   "source": [
    "team_stat = team_stat.rename(columns={'Team_ID': 'teamId', 'Game_ID': 'gameId'})\n"
   ]
  },
  {
   "cell_type": "code",
   "execution_count": 4,
   "metadata": {
    "id": "vVrccvH3U5ID"
   },
   "outputs": [],
   "source": [
    "team_stat= team_stat.reindex(columns=['gameId', 'teamId', 'GAME_DATE', 'DUEL', 'WL', 'NB_VICTOIRE',\n",
    "       'NB_DEFAITE', 'PCT_VICTOIRE', 'DUREE_MATCH', 'TIR REUSSIS', 'TIR TENTE',\n",
    "       'PCT_TIR_REUSSIT', '3PT_REUSSIS', '3PT_TENTE', 'PCT_3PT',\n",
    "       'LANCER_FRANC_REUSSI', 'LANCER_FRANC_TENTE', 'PCT_LANCER_FRANC',\n",
    "       'REBOND_OFF', 'REBOND_DEF', 'REBOND', 'PASSE_D', 'INTERCEPTION',\n",
    "       'TIR_CONTRE', 'BALLON_PERDU', 'FAUTES', 'TOTAL_POINTS'])\n"
   ]
  },
  {
   "cell_type": "code",
   "execution_count": 5,
   "metadata": {
    "id": "QgEVq4STP6iZ"
   },
   "outputs": [],
   "source": [
    "merged_df = pd.merge(team_stat, team_adv_stats, on=['gameId', 'teamId'])\n",
    "\n"
   ]
  },
  {
   "cell_type": "code",
   "execution_count": 6,
   "metadata": {
    "colab": {
     "base_uri": "https://localhost:8080/"
    },
    "id": "t1NFCgTu2Zj1",
    "outputId": "84649a3b-bcc4-491f-f808-b7b8b567804b"
   },
   "outputs": [],
   "source": [
    "# Convertir la colonne 'GAME_DATE' en format de date\n",
    "merged_df['GAME_DATE'] = pd.to_datetime(merged_df['GAME_DATE'], format='%b %d, %Y')\n",
    "\n",
    "# Trier le DataFrame en fonction de la colonne 'GAME_DATE'\n",
    "df_sorted = merged_df.sort_values(by='GAME_DATE')"
   ]
  },
  {
   "cell_type": "code",
   "execution_count": 7,
   "metadata": {
    "id": "gvTo7r7T22G3"
   },
   "outputs": [],
   "source": [
    "df_sorted.to_csv('../dataset/merged_team_stats.csv', index=False)"
   ]
  }
 ],
 "metadata": {
  "colab": {
   "provenance": []
  },
  "kernelspec": {
   "display_name": "Python 3 (ipykernel)",
   "language": "python",
   "name": "python3"
  },
  "language_info": {
   "codemirror_mode": {
    "name": "ipython",
    "version": 3
   },
   "file_extension": ".py",
   "mimetype": "text/x-python",
   "name": "python",
   "nbconvert_exporter": "python",
   "pygments_lexer": "ipython3",
   "version": "3.11.1"
  }
 },
 "nbformat": 4,
 "nbformat_minor": 1
}
